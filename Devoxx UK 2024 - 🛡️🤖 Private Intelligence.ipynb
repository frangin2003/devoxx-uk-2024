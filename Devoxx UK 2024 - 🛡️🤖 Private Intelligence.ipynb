{
 "cells": [
  {
   "cell_type": "markdown",
   "metadata": {},
   "source": [
    "# 1. Data<span style=\"color:red\"> Loss</span> <span style=\"color:green\">Prevention</span>\n"
   ]
  },
  {
   "cell_type": "code",
   "execution_count": 4,
   "metadata": {},
   "outputs": [
    {
     "name": "stdout",
     "output_type": "stream",
     "text": [
      "PPI detected, message blocked\n"
     ]
    }
   ],
   "source": [
    "from presidio_analyzer import AnalyzerEngine\n",
    "from presidio_analyzer.nlp_engine import NlpEngineProvider\n",
    "\n",
    "# Create configuration containing engine name and models\n",
    "configuration = {\n",
    "    \"nlp_engine_name\": \"spacy\",\n",
    "    \"models\": [{\"lang_code\": \"en\", \"model_name\": \"en_core_web_sm\"}],\n",
    "}\n",
    "\n",
    "# Create NLP engine based on configuration\n",
    "provider = NlpEngineProvider(nlp_configuration=configuration)\n",
    "nlp_engine = provider.create_engine()\n",
    "\n",
    "# Function to check for PPI in the email text\n",
    "def check_for_ppi(email_text):\n",
    "    analyzer = AnalyzerEngine(nlp_engine=nlp_engine, supported_languages=['en'])\n",
    "    analysis_results = analyzer.analyze(text=email_text, language='en')\n",
    "    if analysis_results:\n",
    "        print(\"PPI detected, message blocked\")\n",
    "    else:\n",
    "        print(\"No PPI detected, message safe to send\")\n",
    "\n",
    "# Example usage\n",
    "email_input = \"\"\"\n",
    "Subject: $50M Deal with Tesla – Update\n",
    "\n",
    "Hi Mark,\n",
    "Quick update on the $50M contract with Tesla. Sarah and I had a productive call with Elon yesterday.\n",
    "We're ironing out the final details and expect to close the deal by next Friday.\n",
    "Let's touch base tomorrow at 10 AM to discuss the next steps.\n",
    "You can reach me at 212-555-1234 if you have any questions.\n",
    "Best, John.\n",
    "\"\"\"\n",
    "check_for_ppi(email_input)\n"
   ]
  },
  {
   "cell_type": "markdown",
   "metadata": {},
   "source": [
    "# 2. Data<span style=\"color:lightpink\"> Masking</span>\n"
   ]
  },
  {
   "cell_type": "code",
   "execution_count": 17,
   "metadata": {},
   "outputs": [
    {
     "name": "stdout",
     "output_type": "stream",
     "text": [
      "\n",
      "Subject: $50M Deal with ORGANIZATION – Update\n",
      "\n",
      "Hi PERSON,\n",
      "Quick update on the $50M contract with ORGANIZATION. PERSON and I had a DEFAULT call with PERSON DATE_TIME.\n",
      "We're ironing out the final details and expect to close the deal by DATE_TIME.\n",
      "Let's touch base DATE_TIME at DATE_TIME to discuss the next steps.\n",
      "You can reach me at PHONE_NUMBER if you have any questions.\n",
      "Best, PERSON.\n",
      "\n"
     ]
    }
   ],
   "source": [
    "from presidio_analyzer import AnalyzerEngine, PatternRecognizer, Pattern\n",
    "from presidio_analyzer.nlp_engine import NlpEngineProvider\n",
    "from presidio_anonymizer import AnonymizerEngine\n",
    "from presidio_anonymizer.entities.engine import OperatorConfig\n",
    "\n",
    "# Create configuration containing engine name and models\n",
    "configuration = {\n",
    "    \"nlp_engine_name\": \"spacy\",\n",
    "    \"models\": [{\"lang_code\": \"en\", \"model_name\": \"en_core_web_lg\"}],\n",
    "}\n",
    "\n",
    "# Create NLP engine based on configuration\n",
    "provider = NlpEngineProvider(nlp_configuration=configuration)\n",
    "nlp_engine = provider.create_engine()\n",
    "# Function to anonymize PPI in the email text\n",
    "def anonymize_ppi(email_text):\n",
    "    analyzer = AnalyzerEngine(nlp_engine=nlp_engine, supported_languages=['en'])\n",
    "    \n",
    "    # Adding custom recognizers for names and organizations not recognized by default\n",
    "    elon_recognizer = PatternRecognizer(supported_entity=\"PERSON\", patterns=[Pattern(name=\"elon\", regex=r'\\bElon\\b', score=1.0)])\n",
    "    tesla_recognizer = PatternRecognizer(supported_entity=\"ORGANIZATION\", patterns=[Pattern(name=\"tesla\", regex=r'\\bTesla\\b', score=1.0)])\n",
    "    analyzer.registry.add_recognizer(elon_recognizer)\n",
    "    analyzer.registry.add_recognizer(tesla_recognizer)\n",
    "    anonymizer = AnonymizerEngine()\n",
    "    analysis_results = analyzer.analyze(text=email_text, language='en')\n",
    "    \n",
    "    # Define specific operators for different types of PII\n",
    "    operators = {\n",
    "        \"PERSON\": OperatorConfig(\"replace\", {\"new_value\": \"PERSON\"}),\n",
    "        \"PHONE_NUMBER\": OperatorConfig(\"replace\", {\"new_value\": \"PHONE_NUMBER\"}),\n",
    "        \"ORGANIZATION\": OperatorConfig(\"replace\", {\"new_value\": \"ORGANIZATION\"}),\n",
    "        \"MONEY\": OperatorConfig(\"replace\", {\"new_value\": \"MONEY\"}),\n",
    "        \"DATE_TIME\": OperatorConfig(\"replace\", {\"new_value\": \"DATE_TIME\"}),\n",
    "        \"DEFAULT\": OperatorConfig(\"replace\", {\"new_value\": \"DEFAULT\"})\n",
    "    }\n",
    "    \n",
    "    anonymized_results = anonymizer.anonymize(\n",
    "        text=email_text,\n",
    "        analyzer_results=analysis_results,\n",
    "        operators=operators\n",
    "    )\n",
    "    return anonymized_results.text\n",
    "\n",
    "# Example usage\n",
    "email_input = \"\"\"\n",
    "Subject: $50M Deal with Tesla – Update\n",
    "\n",
    "Hi Mark,\n",
    "Quick update on the $50M contract with Tesla. Sarah and I had a productive call with Elon yesterday.\n",
    "We're ironing out the final details and expect to close the deal by next Friday.\n",
    "Let's touch base tomorrow at 10 AM to discuss the next steps.\n",
    "You can reach me at 212-555-1234 if you have any questions.\n",
    "Best, John.\n",
    "\"\"\"\n",
    "print(anonymize_ppi(email_input))\n"
   ]
  },
  {
   "cell_type": "markdown",
   "metadata": {},
   "source": [
    "# 3. Data<span style=\"color:lightgreen\"> Substitution</span>\n"
   ]
  },
  {
   "cell_type": "code",
   "execution_count": null,
   "metadata": {},
   "outputs": [],
   "source": [
    "from langchain_core.prompts.prompt import PromptTemplate\n",
    "from langchain_openai import ChatOpenAI\n",
    "from langchain_experimental.data_anonymizer import PresidioReversibleAnonymizer\n",
    "\n",
    "anonymizer = PresidioReversibleAnonymizer(\n",
    "    analyzed_fields=[\"PERSON\", \"PHONE_NUMBER\", \"EMAIL_ADDRESS\", \"ORGANIZATION\", \"MONEY\", \"DATE_TIME\"],\n",
    "    # Faker seed is used here to make sure the same fake data is generated for the test purposes\n",
    "    # In production, it is recommended to remove the faker_seed parameter (it will default to None)\n",
    "    faker_seed=42,\n",
    ")\n",
    "\n",
    "template = \"\"\"Rewrite this text into an official, short email:\n",
    "\n",
    "{anonymized_text}\"\"\"\n",
    "prompt = PromptTemplate.from_template(template)\n",
    "llm = ChatOpenAI(temperature=0)\n",
    "\n",
    "chain = {\"anonymized_text\": anonymizer.anonymize} | prompt | llm | (lambda ai_message: anonymizer.deanonymize(ai_message.content))\n",
    "\n",
    "# Example usage\n",
    "email_input = \"\"\"\n",
    "Subject: $50M Deal with Tesla – Update\n",
    "\n",
    "Hi Mark,\n",
    "Quick update on the $50M contract with Tesla. Sarah and I had a productive call with Elon yesterday.\n",
    "We're ironing out the final details and expect to close the deal by next Friday.\n",
    "Let's touch base tomorrow at 10 AM to discuss the next steps.\n",
    "You can reach me at 212-555-1234 if you have any questions.\n",
    "Best, John.\n",
    "\"\"\"\n",
    "response = chain.invoke(email_input)\n",
    "print(response.content)"
   ]
  }
 ],
 "metadata": {
  "kernelspec": {
   "display_name": "llm-server",
   "language": "python",
   "name": "python3"
  },
  "language_info": {
   "codemirror_mode": {
    "name": "ipython",
    "version": 3
   },
   "file_extension": ".py",
   "mimetype": "text/x-python",
   "name": "python",
   "nbconvert_exporter": "python",
   "pygments_lexer": "ipython3",
   "version": "3.12.3"
  }
 },
 "nbformat": 4,
 "nbformat_minor": 2
}
